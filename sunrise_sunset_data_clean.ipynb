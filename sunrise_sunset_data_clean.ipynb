{
 "cells": [
  {
   "cell_type": "code",
   "execution_count": 1,
   "metadata": {},
   "outputs": [],
   "source": [
    "import pandas as pd\n",
    "import numpy as np\n",
    "import re\n",
    "import os"
   ]
  },
  {
   "cell_type": "code",
   "execution_count": 5,
   "metadata": {},
   "outputs": [
    {
     "name": "stdout",
     "output_type": "stream",
     "text": [
      "Index(['Unnamed: 0', 'ID', 'Source', 'Severity', 'Start_Time', 'End_Time',\n",
      "       'Start_Lattitude', 'Start_Longitude', 'End_Lattitude', 'End_Longitude',\n",
      "       'Distance(mi)', 'Description', 'Street', 'City', 'County', 'State',\n",
      "       'Zipcode', 'Country', 'Timezone', 'Weather_Timestamp', 'Temperature(F)',\n",
      "       'Wind_Chill(F)', 'Humidity(%)', 'Pressure(in)', 'Visibility(mi)',\n",
      "       'Wind_Direction', 'Wind_Speed(mph)', 'Precipitation(in)',\n",
      "       'Weather_Condition', 'Traffic_Signal', 'Sunrise_Sunset', 'State_Abbrv',\n",
      "       'Population'],\n",
      "      dtype='object')\n"
     ]
    }
   ],
   "source": [
    "# read in the data\n",
    "accidents_data = pd.read_csv('processed_us_car_accidents_2022.csv')\n",
    "\n",
    "# show columns\n",
    "print(accidents_data.columns)"
   ]
  },
  {
   "cell_type": "markdown",
   "metadata": {},
   "source": [
    "To automate the task of determining whether an accident occurred on a highway and its orientation (North, South, East, West), we can write a script that processes the descriptions. The script will use regular expressions to search for keywords indicating highway involvement and direction. If a highway is mentioned with a direction, it will return the respective orientation. If no highway or direction is indicated, it will return \"Not_Highway\"."
   ]
  },
  {
   "cell_type": "markdown",
   "metadata": {},
   "source": [
    "In the US, highways are generally categorized into three types:\n",
    "\n",
    "- Interstate Highways: Usually denoted with an 'I-' followed by a number, e.g., I-95, I-405, I-10.\n",
    "- U.S. Routes: Often signified by 'US-' followed by a number, e.g., US-1, US-66.\n",
    "- State Highways: These vary by state and can include state abbreviations or names, followed by a number, e.g., CA-1 for California, NY-27 for New York."
   ]
  },
  {
   "cell_type": "code",
   "execution_count": 10,
   "metadata": {},
   "outputs": [],
   "source": [
    "def analyze_description(description):\n",
    "    # Regular expressions to find highway and direction mentions\n",
    "    highway_pattern = re.compile(r'\\b(I-\\d+|US-\\d+|[A-Z]{2}-\\d+)\\b', re.IGNORECASE)\n",
    "    direction_pattern = re.compile(r'\\b(Northbound|Southbound|Eastbound|Westbound|NB|SB|EB|WB|North|South|East|West|N|S|E|W)\\b')\n",
    "\n",
    "    # Capitalize the description to ensure case-insensitive matching for directions\n",
    "    description = description.upper()\n",
    "\n",
    "    # Search for patterns in the description\n",
    "    highway_match = highway_pattern.search(description)\n",
    "    direction_match = direction_pattern.search(description)\n",
    "\n",
    "    # Determine if the incident is on a highway and its orientation\n",
    "    if highway_match:\n",
    "        if direction_match:\n",
    "            # Extract the first word of the direction match as the orientation\n",
    "            direction = direction_match.group(0).split()[0]\n",
    "            return direction[0]  # Return only the first letter of the direction\n",
    "        else:\n",
    "            return \"Not_Highway\"\n",
    "    else:\n",
    "        return \"Not_Highway\""
   ]
  },
  {
   "cell_type": "code",
   "execution_count": 11,
   "metadata": {},
   "outputs": [],
   "source": [
    "# Apply the analyze_description function to the description column\n",
    "accidents_data['highway_direction'] = accidents_data['Description'].apply(analyze_description)"
   ]
  },
  {
   "cell_type": "code",
   "execution_count": 12,
   "metadata": {},
   "outputs": [
    {
     "name": "stdout",
     "output_type": "stream",
     "text": [
      "highway_direction\n",
      "Not_Highway    933241\n",
      "S              233473\n",
      "N              231585\n",
      "E              179109\n",
      "W              176036\n",
      "Name: count, dtype: int64\n"
     ]
    }
   ],
   "source": [
    "# show counts of highway_direction\n",
    "print(accidents_data['highway_direction'].value_counts())"
   ]
  },
  {
   "cell_type": "code",
   "execution_count": 13,
   "metadata": {},
   "outputs": [
    {
     "name": "stdout",
     "output_type": "stream",
     "text": [
      "        highway_direction                                        Description\n",
      "905517                  W  Stationary traffic on I-44 W from MO-19/Exit 2...\n",
      "494999        Not_Highway   Incident on I-295 near I-295 Drive with caution.\n",
      "156236        Not_Highway  Lane blocked due to crash on Margaret Wallace ...\n",
      "1123117       Not_Highway  Incident on PLANK RD near PLANK RD Drive with ...\n",
      "997630        Not_Highway  Slow traffic from Biscayne Way to E Roselane S...\n",
      "1163083       Not_Highway  A disabled vehicle is creating a hazard causin...\n",
      "364644                  W  Stationary traffic on AZ-202 Loop W - Red Moun...\n",
      "1056329                 E  Incident on US-60 EB near N COLONNADE WAY Cent...\n",
      "1685608       Not_Highway     Incident on I-95 near I-95 Drive with caution.\n",
      "382935                  S  Slow traffic on US-41 S from 97th Ave (US-41) ...\n"
     ]
    }
   ],
   "source": [
    "# sample random 10 data point on highway_direction and description\n",
    "print(accidents_data[['highway_direction', 'Description']].sample(10))"
   ]
  },
  {
   "cell_type": "code",
   "execution_count": 15,
   "metadata": {},
   "outputs": [],
   "source": [
    "import datetime\n",
    "from suntime import Sun, SunTimeException"
   ]
  },
  {
   "cell_type": "code",
   "execution_count": 17,
   "metadata": {},
   "outputs": [],
   "source": [
    "# lets filter out the data that is not on highway\n",
    "accidents_data = accidents_data[accidents_data['highway_direction'] != 'Not_Highway']"
   ]
  },
  {
   "cell_type": "code",
   "execution_count": 21,
   "metadata": {},
   "outputs": [],
   "source": [
    "# define a function to calculate the sunrise and sunset time based on the latitude and longitude\n",
    "def calculate_sunrise_sunset(latitude, longitude, date):\n",
    "    # Initialize the Sun class for the given latitude and longitude\n",
    "    sun = Sun(latitude, longitude)\n",
    "\n",
    "    # Get sunrise and sunset for the given date\n",
    "    sunrise = sun.get_local_sunrise_time(date)\n",
    "    sunset = sun.get_local_sunset_time(date)\n",
    "\n",
    "    # Return the tuple of sunrise and sunset\n",
    "    return (sunrise, sunset)"
   ]
  },
  {
   "cell_type": "code",
   "execution_count": 19,
   "metadata": {},
   "outputs": [],
   "source": [
    "# seprate the date and time from the start_time column\n",
    "accidents_data['date'] = pd.to_datetime(accidents_data['Start_Time']).dt.date\n",
    "accidents_data['time'] = pd.to_datetime(accidents_data['Start_Time']).dt.time"
   ]
  },
  {
   "cell_type": "code",
   "execution_count": 22,
   "metadata": {},
   "outputs": [],
   "source": [
    "# calculate the sunrise and sunset time for each data point\n",
    "accidents_data['sunrise'], accidents_data['sunset'] = zip(*accidents_data.apply(lambda x: calculate_sunrise_sunset(x['Start_Lattitude'], x['Start_Longitude'], x['date']), axis=1))"
   ]
  },
  {
   "cell_type": "code",
   "execution_count": 24,
   "metadata": {},
   "outputs": [
    {
     "name": "stdout",
     "output_type": "stream",
     "text": [
      "         time                   sunrise                    sunset  \\\n",
      "28   05:04:29 2022-09-08 06:03:00-05:00 2022-09-08 18:33:00-05:00   \n",
      "51   06:41:11 2022-09-08 06:10:00-05:00 2022-09-08 18:41:00-05:00   \n",
      "343  09:54:20 2022-09-08 06:24:00-05:00 2022-09-07 19:05:00-05:00   \n",
      "400  10:02:07 2022-09-08 06:19:00-05:00 2022-09-07 19:05:00-05:00   \n",
      "466  08:44:36 2022-09-08 06:29:00-05:00 2022-09-07 19:18:00-05:00   \n",
      "\n",
      "    highway_direction  Severity  \\\n",
      "28                  W         1   \n",
      "51                  E         2   \n",
      "343                 W         3   \n",
      "400                 S         1   \n",
      "466                 S         2   \n",
      "\n",
      "                                           Description  \n",
      "28   Crash on exit ramp from I-95 Southbound at Exi...  \n",
      "51   Crash on I-4 Westbound near Thomas E. Weightma...  \n",
      "343  Entry ramp to I-65 Westbound from W Trinity Ln...  \n",
      "400  Crash on exit ramp from I-465 clockwise at Exi...  \n",
      "466  Lane blocked due to crash on US-20 Ulysses S G...  \n"
     ]
    }
   ],
   "source": [
    "# show the first 5 rows of the data of their accident time, sunrise and sunset time, direction, severity and description\n",
    "print(accidents_data[['time', 'sunrise', 'sunset', 'highway_direction', 'Severity', 'Description']].head())"
   ]
  },
  {
   "cell_type": "code",
   "execution_count": 33,
   "metadata": {},
   "outputs": [],
   "source": [
    "# define a function to filter out the accident that is +/- 1 hour from sunrise and sunset time\n",
    "def filter_accidents(row):\n",
    "    # Get the accident time, sunrise time, and sunset time\n",
    "    accident_time = row['time']\n",
    "    sunrise_time = row['sunrise'].time()\n",
    "    sunset_time = row['sunset'].time()\n",
    "\n",
    "    # Calculate time difference between the accident and sunrise\n",
    "    sun_rise_diff = abs(datetime.datetime.combine(datetime.date.min, accident_time) - datetime.datetime.combine(datetime.date.min, sunrise_time))\n",
    "    sun_set_diff = abs(datetime.datetime.combine(datetime.date.min, accident_time) - datetime.datetime.combine(datetime.date.min, sunset_time))\n",
    "    \n",
    "    # Check if the accident time is within +/- 1 hour of sunrise or sunset time\n",
    "    if sun_rise_diff <= datetime.timedelta(hours=1):\n",
    "        return \"Sunrise\"\n",
    "    elif sun_set_diff <= datetime.timedelta(hours=1):\n",
    "        return \"Sunset\"\n",
    "    elif (accident_time > sunrise_time) & (accident_time < sunset_time):\n",
    "        return \"Daytime\"\n",
    "    else:\n",
    "        return \"Nighttime\"\n",
    "   "
   ]
  },
  {
   "cell_type": "code",
   "execution_count": 34,
   "metadata": {},
   "outputs": [],
   "source": [
    "# filter out the data that is not during sunrise, sunset or day time\n",
    "accidents_data['daytime'] = [filter_accidents(row) for index, row in accidents_data.iterrows()]"
   ]
  },
  {
   "cell_type": "markdown",
   "metadata": {},
   "source": [
    "Here are some potential ways to compare the directions and sunrise_sunset time might affect the accident severity:"
   ]
  },
  {
   "cell_type": "code",
   "execution_count": 35,
   "metadata": {},
   "outputs": [
    {
     "name": "stdout",
     "output_type": "stream",
     "text": [
      "daytime\n",
      "Daytime      500433\n",
      "Nighttime    170848\n",
      "Sunset        79221\n",
      "Sunrise       69701\n",
      "Name: count, dtype: int64\n"
     ]
    }
   ],
   "source": [
    "# show the count of the daytime column\n",
    "print(accidents_data['daytime'].value_counts())"
   ]
  },
  {
   "cell_type": "code",
   "execution_count": 42,
   "metadata": {},
   "outputs": [
    {
     "name": "stdout",
     "output_type": "stream",
     "text": [
      "daytime    highway_direction\n",
      "Daytime    E                    110900\n",
      "           N                    143338\n",
      "           S                    143348\n",
      "           W                    102847\n",
      "Nighttime  E                     36100\n",
      "           N                     47216\n",
      "           S                     47340\n",
      "           W                     40192\n",
      "Sunrise    E                     15076\n",
      "           N                     18235\n",
      "           S                     20281\n",
      "           W                     16109\n",
      "Sunset     E                     17033\n",
      "           N                     22796\n",
      "           S                     22504\n",
      "           W                     16888\n",
      "dtype: int64\n"
     ]
    }
   ],
   "source": [
    "# check the correlation between daytime, highway_direction\n",
    "print(accidents_data.groupby(['daytime', 'highway_direction']).size())"
   ]
  },
  {
   "cell_type": "code",
   "execution_count": 43,
   "metadata": {},
   "outputs": [
    {
     "name": "stdout",
     "output_type": "stream",
     "text": [
      "daytime    highway_direction_combine\n",
      "Daytime    EW                           213747\n",
      "           NS                           286686\n",
      "Nighttime  EW                            76292\n",
      "           NS                            94556\n",
      "Sunrise    EW                            31185\n",
      "           NS                            38516\n",
      "Sunset     EW                            33921\n",
      "           NS                            45300\n",
      "dtype: int64\n"
     ]
    }
   ],
   "source": [
    "# check the correlation between daytime and highway_direction(combine the direction to NS, EW)\n",
    "accidents_data['highway_direction_combine'] = accidents_data['highway_direction'].replace({'N': 'NS', 'S': 'NS', 'E': 'EW', 'W': 'EW'})\n",
    "print(accidents_data.groupby(['daytime', 'highway_direction_combine']).size())"
   ]
  },
  {
   "cell_type": "code",
   "execution_count": 44,
   "metadata": {},
   "outputs": [
    {
     "name": "stdout",
     "output_type": "stream",
     "text": [
      "daytime    highway_direction_combine\n",
      "Daytime    EW                           0.427124\n",
      "           NS                           0.572876\n",
      "Nighttime  EW                           0.446549\n",
      "           NS                           0.553451\n",
      "Sunrise    EW                           0.447411\n",
      "           NS                           0.552589\n",
      "Sunset     EW                           0.428182\n",
      "           NS                           0.571818\n",
      "dtype: float64\n"
     ]
    }
   ],
   "source": [
    "# check the percentage of highway_direction_combine vs total accident count for each daytime\n",
    "print(accidents_data.groupby(['daytime', 'highway_direction_combine']).size()/accidents_data.groupby(['daytime']).size())"
   ]
  },
  {
   "cell_type": "markdown",
   "metadata": {},
   "source": [
    "now lets try to segment the data based on their time of the day on hourly basis, and "
   ]
  },
  {
   "cell_type": "code",
   "execution_count": null,
   "metadata": {},
   "outputs": [],
   "source": []
  }
 ],
 "metadata": {
  "kernelspec": {
   "display_name": "tensorflow-gpu",
   "language": "python",
   "name": "python3"
  },
  "language_info": {
   "codemirror_mode": {
    "name": "ipython",
    "version": 3
   },
   "file_extension": ".py",
   "mimetype": "text/x-python",
   "name": "python",
   "nbconvert_exporter": "python",
   "pygments_lexer": "ipython3",
   "version": "3.10.13"
  }
 },
 "nbformat": 4,
 "nbformat_minor": 2
}
