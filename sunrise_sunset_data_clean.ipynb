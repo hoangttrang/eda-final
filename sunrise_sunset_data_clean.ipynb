{
 "cells": [
  {
   "cell_type": "code",
   "execution_count": 1,
   "metadata": {},
   "outputs": [
    {
     "name": "stderr",
     "output_type": "stream",
     "text": [
      "c:\\Users\\alber\\anaconda3\\envs\\tensorflow-gpu\\lib\\site-packages\\numpy\\_distributor_init.py:30: UserWarning: loaded more than 1 DLL from .libs:\n",
      "c:\\Users\\alber\\anaconda3\\envs\\tensorflow-gpu\\lib\\site-packages\\numpy\\.libs\\libopenblas.EL2C6PLE4ZYW3ECEVIV3OXXGRN2NRFM2.gfortran-win_amd64.dll\n",
      "c:\\Users\\alber\\anaconda3\\envs\\tensorflow-gpu\\lib\\site-packages\\numpy\\.libs\\libopenblas.WCDJNK7YVMPZQ2ME2ZZHJJRJ3JIKNDB7.gfortran-win_amd64.dll\n",
      "  warnings.warn(\"loaded more than 1 DLL from .libs:\"\n"
     ]
    }
   ],
   "source": [
    "import pandas as pd\n",
    "import numpy as np"
   ]
  },
  {
   "cell_type": "code",
   "execution_count": 2,
   "metadata": {},
   "outputs": [],
   "source": [
    "import os\n",
    "key = os.environ.get('EDA_FINAL')\n"
   ]
  },
  {
   "cell_type": "code",
   "execution_count": 3,
   "metadata": {},
   "outputs": [],
   "source": [
    "import cohere\n",
    "from cohere.responses.classify import Example\n",
    "co = cohere.Client('key')"
   ]
  },
  {
   "cell_type": "code",
   "execution_count": 4,
   "metadata": {},
   "outputs": [
    {
     "name": "stdout",
     "output_type": "stream",
     "text": [
      "Index(['Unnamed: 0', 'ID', 'Source', 'Severity', 'Start_Time', 'End_Time',\n",
      "       'Start_Lattitude', 'Start_Longitude', 'End_Lattitude', 'End_Longitude',\n",
      "       'Distance(mi)', 'Description', 'Street', 'City', 'County', 'State',\n",
      "       'Zipcode', 'Country', 'Timezone', 'Weather_Timestamp', 'Temperature(F)',\n",
      "       'Wind_Chill(F)', 'Humidity(%)', 'Pressure(in)', 'Visibility(mi)',\n",
      "       'Wind_Direction', 'Wind_Speed(mph)', 'Precipitation(in)',\n",
      "       'Weather_Condition', 'Traffic_Signal', 'Sunrise_Sunset', 'State_Abbrv',\n",
      "       'Population'],\n",
      "      dtype='object')\n"
     ]
    }
   ],
   "source": [
    "# read in the data\n",
    "accidents_data = pd.read_csv('processed_us_car_accidents_2022.csv')\n",
    "\n",
    "# show columns\n",
    "print(accidents_data.columns)"
   ]
  },
  {
   "cell_type": "markdown",
   "metadata": {},
   "source": [
    "Used the GPT4 to generate a list of 50 exmaple whether the accident happened on the highway or not, if yes it will label the direction of the accident as North, South, East, West, if not it will label as Not_Highway.\n",
    "Then, the exmamples will be used to train a classifier to predict whether the accident happened on the highway or not."
   ]
  },
  {
   "cell_type": "code",
   "execution_count": 5,
   "metadata": {},
   "outputs": [],
   "source": [
    "# Randomly selecting 50 descriptions from the dataset\n",
    "random_descriptions = accidents_data['Description'].sample(50, random_state=1)\n",
    "\n",
    "random_descriptions = random_descriptions.tolist()"
   ]
  },
  {
   "cell_type": "markdown",
   "metadata": {},
   "source": [
    "Now these description is passed to the GPT4 model to generate example, and here is the prompt I used:\n",
    "\n",
    "```\n",
    "Please use the description column, find out whether the accident is happen on a high way, if yes return the orientation(N,S,W,E) of that accident happened, and if not on a highway or the direction it is not stated in the discription return not_highway. Read a random 50 description, return a list of data with the following structure\n",
    "\n",
    "examples=[\n",
    "  Example(\"description\", \"North\"),\n",
    "  Example(\"'description'\", \"South\"),\n",
    "  Example(\"description\", \"East\"),\n",
    "  Example(\"'description'\", \"West\"),\n",
    "  Example(\"description\", \"North\"),\n",
    "  Example(\"'description'\", \"Not_Highway\"),\n",
    "]\n",
    "\n",
    "When you analyze the description, do not use code, use your own judgment to make the prediction. \n",
    "\n",
    "\n",
    "```"
   ]
  },
  {
   "cell_type": "code",
   "execution_count": 6,
   "metadata": {},
   "outputs": [],
   "source": [
    "# here are the examples generated from the GPT4\n",
    "examples = [\n",
    "    Example(\"Incident on AZ-79 SB near FANNIN-MCFARLAND AQUEDUCT\", \"South\"),\n",
    "    Example(\"Left lane blocked due to crash on I-495 Southbound\", \"South\"),\n",
    "    Example(\"Lane blocked due to crash on FL-574 Dr Martin Luther King Jr Blvd Eastbound at I-4\", \"East\"),\n",
    "    Example(\"Slow traffic on I-405 N - San Diego Fwy N from Venice Blvd/Exit 50 to I-10/Exit 53B\", \"North\"),\n",
    "    Example(\"Incident on TOPANGA CANYON BLVD NB near RODEO GROUNDS DR\", \"North\"),\n",
    "    Example(\"Two lanes blocked due to crash on I-678 Northbound at Exit 1B I-495 Long Island Expy\", \"North\"),\n",
    "    Example(\"Incident on US-378 near HOLLEY FERRY RD\", \"Not_Highway\"),\n",
    "    Example(\"Stationary traffic on US-54 S - US-54 N from 375 Loop to Montana Ave/Exit 23\", \"Not_Highway\"),\n",
    "    Example(\"Incident on GEORGE WASHINGTON MEMORIAL PKY near VA-123 Chain Bridge Rd\", \"Not_Highway\"),\n",
    "    Example(\"Center lane blocked due to crash on I-84 Eastbound at Exit 57 I-91\", \"East\"),\n",
    "    Example(\"Stationary traffic on US-12 E - I-94 E - I-35E N from MN-55 to I-494\", \"East\"),\n",
    "    Example(\"Slow traffic on I-95 S from Hypoluxo Rd/Exit 60 to Lantana Rd/Exit 61\", \"South\"),\n",
    "    Example(\"Lane blocked due to crash on I-85 Northbound at Exit 120 Hamilton Mill Rd\", \"North\"),\n",
    "    Example(\"Incident on I-87 NB near I-87\", \"North\"),\n",
    "    Example(\"Incident on MN-77 near DIAGONAL BLVD\", \"Not_Highway\"),\n",
    "    Example(\"Stationary traffic from Poole Rd (Hodge Rd) to Exit 14\", \"Not_Highway\"),\n",
    "    Example(\"Incident on MORNING GLORY AVE near CHERRYDALE DR\", \"Not_Highway\"),\n",
    "    Example(\"Crash on the left shoulder on I-17 Northbound at Exit 214B Jomax Rd\", \"North\"),\n",
    "    Example(\"Accident on S Holt Rd from Whiskey Slough Rd to I-5\", \"Not_Highway\"),\n",
    "    Example(\"Incident on I-575 SB near BARRETT PKY\", \"South\"),\n",
    "    Example(\"Stationary traffic on VA-3 - VA-14 from Burkes Pond Rd to John Clayton Memorial Hwy\", \"Not_Highway\"),\n",
    "    Example(\"Incident on I-55 SB near US-278 Road closed. Take alternate route\", \"South\"),\n",
    "    Example(\"Incident on W GARNETTE ST near W GARNETTE ST E\", \"Not_Highway\"),\n",
    "    Example(\"Incident on HICKS RD near ALAMITOS RD\", \"Not_Highway\"),\n",
    "    Example(\"Right lane blocked due to accident on I-285 Northbound at Exit 25 US-19 Roswell Rd\", \"North\"),\n",
    "    Example(\"Slow traffic on I-10 E from US-98/US-90/Old Spanish Trail to FL-292/Sorrento Rd/Exit 7\", \"East\"),\n",
    "    Example(\"Stationary traffic from S Vermont Ave (W Gage Ave) to I-110/Harbor Fwy/Exit 18\", \"Not_Highway\"),\n",
    "    Example(\"Incident on CA-132 near N DAKOTA AVE Right shoulder blocked\", \"Not_Highway\"),\n",
    "    Example(\"Incident on CA-156 near MONTEREY ST Road closed\", \"Not_Highway\"),\n",
    "    Example(\"Incident on TX-21 WB near FM-1209 Road closed. Take alternate route\", \"West\"),\n",
    "    Example(\"Incident on N 7TH ST near E DEER VALLEY RD Expect delays\", \"Not_Highway\"),\n",
    "    Example(\"Left lane blocked and left hand shoulder blocked due to crash on I-75 Northbound at Exit 250 10th St/14th St\", \"North\"),\n",
    "    Example(\"Incident on VESTRY DR near LAMPWICK LN Expect delays\", \"Not_Highway\"),\n",
    "    Example(\"Stationary traffic from Blaine St exit [33] to NJ-17\", \"Not_Highway\"),\n",
    "    Example(\"Stationary traffic on US-29 N - US-29 S from Timberwood Blvd to Hydraulic Rd\", \"Not_Highway\"),\n",
    "    Example(\"Slow traffic on San Bernardino Fwy E - I-10 E from Sierra Ave/Exit 68 to Cherry Ave/Exit 71\", \"East\"),\n",
    "    Example(\"Crash on NY 7 eastbound at Exit to I-787; Exit 9E\", \"East\"),\n",
    "    Example(\"Lane blocked due to crash on I-65 Southbound at Exit 13A I-40\", \"South\"),\n",
    "    Example(\"Incident on WI-57 SB near COUNTY ROAD PP Road closed\", \"South\"),\n",
    "    Example(\"Slow traffic on I-696 E from Hoover Rd/Exit 24 to Mound Rd/Exit 23\", \"East\"),\n",
    "    Example(\"Incident on I-90 near I-90 Left lane blocked\", \"Not_Highway\"),\n",
    "    Example(\"Slow traffic on Garden State Pkwy S from US-9 Exit 123 to Cheesequake Rd Exit 120\", \"South\"),\n",
    "    Example(\"Incident on TEXAS ST near MONROE AVE\", \"Not_Highway\"),\n",
    "    Example(\"Incident on N LABURNUM AVE near WATTS LN\", \"Not_Highway\"),\n",
    "    Example(\"Slow traffic on I-90 W from 22nd St/Exit 172 (I-94 W/I-90 W) to Cermak Rd\", \"West\"),\n",
    "    Example(\"Slow traffic on San Diego Fwy S - I-405 S from Getty Center Dr to I-10/Santa Monica Fwy\", \"South\"),\n",
    "    Example(\"Left lane blocked due to crash on MA-24 Southbound at Exit 18B I-495 North\", \"South\"),\n",
    "    Example(\"Incident on I-80 EB near I-80\", \"East\"),\n",
    "    Example(\"Slow traffic on US-301 N - FL-70 from 63rd Ave E to 33rd St E\", \"North\"),\n",
    "    Example(\"Incident on SW 59TH LN near HOUSE 13420\", \"Not_Highway\")\n",
    "]\n"
   ]
  },
  {
   "cell_type": "code",
   "execution_count": 7,
   "metadata": {},
   "outputs": [
    {
     "ename": "CohereAPIError",
     "evalue": "invalid api token",
     "output_type": "error",
     "traceback": [
      "\u001b[1;31m---------------------------------------------------------------------------\u001b[0m",
      "\u001b[1;31mCohereAPIError\u001b[0m                            Traceback (most recent call last)",
      "\u001b[1;32md:\\Work\\Vanderbilt\\5610final\\sunrise_sunset_data_clean.ipynb Cell 9\u001b[0m line \u001b[0;36m<cell line: 2>\u001b[1;34m()\u001b[0m\n\u001b[0;32m      <a href='vscode-notebook-cell:/d%3A/Work/Vanderbilt/5610final/sunrise_sunset_data_clean.ipynb#X14sZmlsZQ%3D%3D?line=0'>1</a>\u001b[0m \u001b[39m# apply co.classify to the actual data and append the results to the dataframe\u001b[39;00m\n\u001b[1;32m----> <a href='vscode-notebook-cell:/d%3A/Work/Vanderbilt/5610final/sunrise_sunset_data_clean.ipynb#X14sZmlsZQ%3D%3D?line=1'>2</a>\u001b[0m accidents_data[\u001b[39m'\u001b[39m\u001b[39mdirection\u001b[39m\u001b[39m'\u001b[39m][:\u001b[39m10\u001b[39m] \u001b[39m=\u001b[39m accidents_data[\u001b[39m'\u001b[39;49m\u001b[39mDescription\u001b[39;49m\u001b[39m'\u001b[39;49m][:\u001b[39m10\u001b[39;49m]\u001b[39m.\u001b[39;49mapply(\u001b[39mlambda\u001b[39;49;00m x: co\u001b[39m.\u001b[39;49mclassify(x, examples))\n",
      "File \u001b[1;32mc:\\Users\\alber\\anaconda3\\envs\\tensorflow-gpu\\lib\\site-packages\\pandas\\core\\series.py:4357\u001b[0m, in \u001b[0;36mSeries.apply\u001b[1;34m(self, func, convert_dtype, args, **kwargs)\u001b[0m\n\u001b[0;32m   4247\u001b[0m \u001b[39mdef\u001b[39;00m \u001b[39mapply\u001b[39m(\n\u001b[0;32m   4248\u001b[0m     \u001b[39mself\u001b[39m,\n\u001b[0;32m   4249\u001b[0m     func: AggFuncType,\n\u001b[1;32m   (...)\u001b[0m\n\u001b[0;32m   4252\u001b[0m     \u001b[39m*\u001b[39m\u001b[39m*\u001b[39mkwargs,\n\u001b[0;32m   4253\u001b[0m ) \u001b[39m-\u001b[39m\u001b[39m>\u001b[39m FrameOrSeriesUnion:\n\u001b[0;32m   4254\u001b[0m     \u001b[39m\"\"\"\u001b[39;00m\n\u001b[0;32m   4255\u001b[0m \u001b[39m    Invoke function on values of Series.\u001b[39;00m\n\u001b[0;32m   4256\u001b[0m \n\u001b[1;32m   (...)\u001b[0m\n\u001b[0;32m   4355\u001b[0m \u001b[39m    dtype: float64\u001b[39;00m\n\u001b[0;32m   4356\u001b[0m \u001b[39m    \"\"\"\u001b[39;00m\n\u001b[1;32m-> 4357\u001b[0m     \u001b[39mreturn\u001b[39;00m SeriesApply(\u001b[39mself\u001b[39;49m, func, convert_dtype, args, kwargs)\u001b[39m.\u001b[39;49mapply()\n",
      "File \u001b[1;32mc:\\Users\\alber\\anaconda3\\envs\\tensorflow-gpu\\lib\\site-packages\\pandas\\core\\apply.py:1043\u001b[0m, in \u001b[0;36mSeriesApply.apply\u001b[1;34m(self)\u001b[0m\n\u001b[0;32m   1039\u001b[0m \u001b[39mif\u001b[39;00m \u001b[39misinstance\u001b[39m(\u001b[39mself\u001b[39m\u001b[39m.\u001b[39mf, \u001b[39mstr\u001b[39m):\n\u001b[0;32m   1040\u001b[0m     \u001b[39m# if we are a string, try to dispatch\u001b[39;00m\n\u001b[0;32m   1041\u001b[0m     \u001b[39mreturn\u001b[39;00m \u001b[39mself\u001b[39m\u001b[39m.\u001b[39mapply_str()\n\u001b[1;32m-> 1043\u001b[0m \u001b[39mreturn\u001b[39;00m \u001b[39mself\u001b[39;49m\u001b[39m.\u001b[39;49mapply_standard()\n",
      "File \u001b[1;32mc:\\Users\\alber\\anaconda3\\envs\\tensorflow-gpu\\lib\\site-packages\\pandas\\core\\apply.py:1098\u001b[0m, in \u001b[0;36mSeriesApply.apply_standard\u001b[1;34m(self)\u001b[0m\n\u001b[0;32m   1092\u001b[0m         values \u001b[39m=\u001b[39m obj\u001b[39m.\u001b[39mastype(\u001b[39mobject\u001b[39m)\u001b[39m.\u001b[39m_values\n\u001b[0;32m   1093\u001b[0m         \u001b[39m# error: Argument 2 to \"map_infer\" has incompatible type\u001b[39;00m\n\u001b[0;32m   1094\u001b[0m         \u001b[39m# \"Union[Callable[..., Any], str, List[Union[Callable[..., Any], str]],\u001b[39;00m\n\u001b[0;32m   1095\u001b[0m         \u001b[39m# Dict[Hashable, Union[Union[Callable[..., Any], str],\u001b[39;00m\n\u001b[0;32m   1096\u001b[0m         \u001b[39m# List[Union[Callable[..., Any], str]]]]]\"; expected\u001b[39;00m\n\u001b[0;32m   1097\u001b[0m         \u001b[39m# \"Callable[[Any], Any]\"\u001b[39;00m\n\u001b[1;32m-> 1098\u001b[0m         mapped \u001b[39m=\u001b[39m lib\u001b[39m.\u001b[39;49mmap_infer(\n\u001b[0;32m   1099\u001b[0m             values,\n\u001b[0;32m   1100\u001b[0m             f,  \u001b[39m# type: ignore[arg-type]\u001b[39;49;00m\n\u001b[0;32m   1101\u001b[0m             convert\u001b[39m=\u001b[39;49m\u001b[39mself\u001b[39;49m\u001b[39m.\u001b[39;49mconvert_dtype,\n\u001b[0;32m   1102\u001b[0m         )\n\u001b[0;32m   1104\u001b[0m \u001b[39mif\u001b[39;00m \u001b[39mlen\u001b[39m(mapped) \u001b[39mand\u001b[39;00m \u001b[39misinstance\u001b[39m(mapped[\u001b[39m0\u001b[39m], ABCSeries):\n\u001b[0;32m   1105\u001b[0m     \u001b[39m# GH 25959 use pd.array instead of tolist\u001b[39;00m\n\u001b[0;32m   1106\u001b[0m     \u001b[39m# so extension arrays can be used\u001b[39;00m\n\u001b[0;32m   1107\u001b[0m     \u001b[39mreturn\u001b[39;00m obj\u001b[39m.\u001b[39m_constructor_expanddim(pd_array(mapped), index\u001b[39m=\u001b[39mobj\u001b[39m.\u001b[39mindex)\n",
      "File \u001b[1;32mc:\\Users\\alber\\anaconda3\\envs\\tensorflow-gpu\\lib\\site-packages\\pandas\\_libs\\lib.pyx:2859\u001b[0m, in \u001b[0;36mpandas._libs.lib.map_infer\u001b[1;34m()\u001b[0m\n",
      "\u001b[1;32md:\\Work\\Vanderbilt\\5610final\\sunrise_sunset_data_clean.ipynb Cell 9\u001b[0m line \u001b[0;36m<lambda>\u001b[1;34m(x)\u001b[0m\n\u001b[0;32m      <a href='vscode-notebook-cell:/d%3A/Work/Vanderbilt/5610final/sunrise_sunset_data_clean.ipynb#X14sZmlsZQ%3D%3D?line=0'>1</a>\u001b[0m \u001b[39m# apply co.classify to the actual data and append the results to the dataframe\u001b[39;00m\n\u001b[1;32m----> <a href='vscode-notebook-cell:/d%3A/Work/Vanderbilt/5610final/sunrise_sunset_data_clean.ipynb#X14sZmlsZQ%3D%3D?line=1'>2</a>\u001b[0m accidents_data[\u001b[39m'\u001b[39m\u001b[39mdirection\u001b[39m\u001b[39m'\u001b[39m][:\u001b[39m10\u001b[39m] \u001b[39m=\u001b[39m accidents_data[\u001b[39m'\u001b[39m\u001b[39mDescription\u001b[39m\u001b[39m'\u001b[39m][:\u001b[39m10\u001b[39m]\u001b[39m.\u001b[39mapply(\u001b[39mlambda\u001b[39;00m x: co\u001b[39m.\u001b[39;49mclassify(x, examples))\n",
      "File \u001b[1;32mc:\\Users\\alber\\anaconda3\\envs\\tensorflow-gpu\\lib\\site-packages\\cohere\\client.py:481\u001b[0m, in \u001b[0;36mClient.classify\u001b[1;34m(self, inputs, model, preset, examples, truncate)\u001b[0m\n\u001b[0;32m    472\u001b[0m examples_dicts \u001b[39m=\u001b[39m [{\u001b[39m\"\u001b[39m\u001b[39mtext\u001b[39m\u001b[39m\"\u001b[39m: example\u001b[39m.\u001b[39mtext, \u001b[39m\"\u001b[39m\u001b[39mlabel\u001b[39m\u001b[39m\"\u001b[39m: example\u001b[39m.\u001b[39mlabel} \u001b[39mfor\u001b[39;00m example \u001b[39min\u001b[39;00m examples]\n\u001b[0;32m    474\u001b[0m json_body \u001b[39m=\u001b[39m {\n\u001b[0;32m    475\u001b[0m     \u001b[39m\"\u001b[39m\u001b[39mmodel\u001b[39m\u001b[39m\"\u001b[39m: model,\n\u001b[0;32m    476\u001b[0m     \u001b[39m\"\u001b[39m\u001b[39mpreset\u001b[39m\u001b[39m\"\u001b[39m: preset,\n\u001b[1;32m   (...)\u001b[0m\n\u001b[0;32m    479\u001b[0m     \u001b[39m\"\u001b[39m\u001b[39mtruncate\u001b[39m\u001b[39m\"\u001b[39m: truncate,\n\u001b[0;32m    480\u001b[0m }\n\u001b[1;32m--> 481\u001b[0m response \u001b[39m=\u001b[39m \u001b[39mself\u001b[39;49m\u001b[39m.\u001b[39;49m_request(cohere\u001b[39m.\u001b[39;49mCLASSIFY_URL, json\u001b[39m=\u001b[39;49mjson_body)\n\u001b[0;32m    483\u001b[0m classifications \u001b[39m=\u001b[39m []\n\u001b[0;32m    484\u001b[0m \u001b[39mfor\u001b[39;00m res \u001b[39min\u001b[39;00m response[\u001b[39m\"\u001b[39m\u001b[39mclassifications\u001b[39m\u001b[39m\"\u001b[39m]:\n",
      "File \u001b[1;32mc:\\Users\\alber\\anaconda3\\envs\\tensorflow-gpu\\lib\\site-packages\\cohere\\client.py:945\u001b[0m, in \u001b[0;36mClient._request\u001b[1;34m(self, endpoint, json, files, method, stream, params)\u001b[0m\n\u001b[0;32m    942\u001b[0m     \u001b[39mexcept\u001b[39;00m jsonlib\u001b[39m.\u001b[39mdecoder\u001b[39m.\u001b[39mJSONDecodeError:  \u001b[39m# CohereAPIError will capture status\u001b[39;00m\n\u001b[0;32m    943\u001b[0m         \u001b[39mraise\u001b[39;00m CohereAPIError\u001b[39m.\u001b[39mfrom_response(response, message\u001b[39m=\u001b[39m\u001b[39mf\u001b[39m\u001b[39m\"\u001b[39m\u001b[39mFailed to decode json body: \u001b[39m\u001b[39m{\u001b[39;00mresponse\u001b[39m.\u001b[39mtext\u001b[39m}\u001b[39;00m\u001b[39m\"\u001b[39m)\n\u001b[1;32m--> 945\u001b[0m     \u001b[39mself\u001b[39;49m\u001b[39m.\u001b[39;49m_check_response(json_response, response\u001b[39m.\u001b[39;49mheaders, response\u001b[39m.\u001b[39;49mstatus_code)\n\u001b[0;32m    946\u001b[0m \u001b[39mreturn\u001b[39;00m json_response\n",
      "File \u001b[1;32mc:\\Users\\alber\\anaconda3\\envs\\tensorflow-gpu\\lib\\site-packages\\cohere\\client.py:887\u001b[0m, in \u001b[0;36mClient._check_response\u001b[1;34m(self, json_response, headers, status_code)\u001b[0m\n\u001b[0;32m    885\u001b[0m     logger\u001b[39m.\u001b[39mwarning(headers[\u001b[39m\"\u001b[39m\u001b[39mX-API-Warning\u001b[39m\u001b[39m\"\u001b[39m])\n\u001b[0;32m    886\u001b[0m \u001b[39mif\u001b[39;00m \u001b[39m\"\u001b[39m\u001b[39mmessage\u001b[39m\u001b[39m\"\u001b[39m \u001b[39min\u001b[39;00m json_response:  \u001b[39m# has errors\u001b[39;00m\n\u001b[1;32m--> 887\u001b[0m     \u001b[39mraise\u001b[39;00m CohereAPIError(\n\u001b[0;32m    888\u001b[0m         message\u001b[39m=\u001b[39mjson_response[\u001b[39m\"\u001b[39m\u001b[39mmessage\u001b[39m\u001b[39m\"\u001b[39m],\n\u001b[0;32m    889\u001b[0m         http_status\u001b[39m=\u001b[39mstatus_code,\n\u001b[0;32m    890\u001b[0m         headers\u001b[39m=\u001b[39mheaders,\n\u001b[0;32m    891\u001b[0m     )\n\u001b[0;32m    892\u001b[0m \u001b[39mif\u001b[39;00m \u001b[39m400\u001b[39m \u001b[39m<\u001b[39m\u001b[39m=\u001b[39m status_code \u001b[39m<\u001b[39m \u001b[39m500\u001b[39m:\n\u001b[0;32m    893\u001b[0m     \u001b[39mraise\u001b[39;00m CohereAPIError(\n\u001b[0;32m    894\u001b[0m         message\u001b[39m=\u001b[39m\u001b[39mf\u001b[39m\u001b[39m\"\u001b[39m\u001b[39mUnexpected client error (status \u001b[39m\u001b[39m{\u001b[39;00mstatus_code\u001b[39m}\u001b[39;00m\u001b[39m): \u001b[39m\u001b[39m{\u001b[39;00mjson_response\u001b[39m}\u001b[39;00m\u001b[39m\"\u001b[39m,\n\u001b[0;32m    895\u001b[0m         http_status\u001b[39m=\u001b[39mstatus_code,\n\u001b[0;32m    896\u001b[0m         headers\u001b[39m=\u001b[39mheaders,\n\u001b[0;32m    897\u001b[0m     )\n",
      "\u001b[1;31mCohereAPIError\u001b[0m: invalid api token"
     ]
    }
   ],
   "source": [
    "# apply co.classify to the actual data and append the results to the dataframe\n",
    "accidents_data['direction'][:10] = accidents_data['Description'][:10].apply(lambda x: co.classify(x, examples))"
   ]
  }
 ],
 "metadata": {
  "kernelspec": {
   "display_name": "tensorflow-gpu",
   "language": "python",
   "name": "python3"
  },
  "language_info": {
   "codemirror_mode": {
    "name": "ipython",
    "version": 3
   },
   "file_extension": ".py",
   "mimetype": "text/x-python",
   "name": "python",
   "nbconvert_exporter": "python",
   "pygments_lexer": "ipython3",
   "version": "3.8.18"
  }
 },
 "nbformat": 4,
 "nbformat_minor": 2
}
