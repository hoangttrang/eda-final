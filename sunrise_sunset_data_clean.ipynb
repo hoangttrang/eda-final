{
 "cells": [
  {
   "cell_type": "code",
   "execution_count": 1,
   "metadata": {},
   "outputs": [],
   "source": [
    "import pandas as pd\n",
    "import numpy as np\n",
    "import re\n",
    "import os"
   ]
  },
  {
   "cell_type": "code",
   "execution_count": 5,
   "metadata": {},
   "outputs": [
    {
     "name": "stdout",
     "output_type": "stream",
     "text": [
      "Index(['Unnamed: 0', 'ID', 'Source', 'Severity', 'Start_Time', 'End_Time',\n",
      "       'Start_Lattitude', 'Start_Longitude', 'End_Lattitude', 'End_Longitude',\n",
      "       'Distance(mi)', 'Description', 'Street', 'City', 'County', 'State',\n",
      "       'Zipcode', 'Country', 'Timezone', 'Weather_Timestamp', 'Temperature(F)',\n",
      "       'Wind_Chill(F)', 'Humidity(%)', 'Pressure(in)', 'Visibility(mi)',\n",
      "       'Wind_Direction', 'Wind_Speed(mph)', 'Precipitation(in)',\n",
      "       'Weather_Condition', 'Traffic_Signal', 'Sunrise_Sunset', 'State_Abbrv',\n",
      "       'Population'],\n",
      "      dtype='object')\n"
     ]
    }
   ],
   "source": [
    "# read in the data\n",
    "accidents_data = pd.read_csv('processed_us_car_accidents_2022.csv')\n",
    "\n",
    "# show columns\n",
    "print(accidents_data.columns)"
   ]
  },
  {
   "cell_type": "code",
   "execution_count": 10,
   "metadata": {},
   "outputs": [],
   "source": [
    "def analyze_description(description):\n",
    "    # Regular expressions to find highway and direction mentions\n",
    "    highway_pattern = re.compile(r'\\b(I-\\d+|US-\\d+|[A-Z]{2}-\\d+)\\b', re.IGNORECASE)\n",
    "    direction_pattern = re.compile(r'\\b(Northbound|Southbound|Eastbound|Westbound|NB|SB|EB|WB|North|South|East|West|N|S|E|W)\\b')\n",
    "\n",
    "    # Capitalize the description to ensure case-insensitive matching for directions\n",
    "    description = description.upper()\n",
    "\n",
    "    # Search for patterns in the description\n",
    "    highway_match = highway_pattern.search(description)\n",
    "    direction_match = direction_pattern.search(description)\n",
    "\n",
    "    # Determine if the incident is on a highway and its orientation\n",
    "    if highway_match:\n",
    "        if direction_match:\n",
    "            # Extract the first word of the direction match as the orientation\n",
    "            direction = direction_match.group(0).split()[0]\n",
    "            return direction[0]  # Return only the first letter of the direction\n",
    "        else:\n",
    "            return \"Not_Highway\"\n",
    "    else:\n",
    "        return \"Not_Highway\""
   ]
  },
  {
   "cell_type": "code",
   "execution_count": 11,
   "metadata": {},
   "outputs": [],
   "source": [
    "# Apply the analyze_description function to the description column\n",
    "accidents_data['highway_direction'] = accidents_data['Description'].apply(analyze_description)"
   ]
  },
  {
   "cell_type": "code",
   "execution_count": 12,
   "metadata": {},
   "outputs": [
    {
     "name": "stdout",
     "output_type": "stream",
     "text": [
      "highway_direction\n",
      "Not_Highway    933241\n",
      "S              233473\n",
      "N              231585\n",
      "E              179109\n",
      "W              176036\n",
      "Name: count, dtype: int64\n"
     ]
    }
   ],
   "source": [
    "# show counts of highway_direction\n",
    "print(accidents_data['highway_direction'].value_counts())"
   ]
  },
  {
   "cell_type": "code",
   "execution_count": null,
   "metadata": {},
   "outputs": [],
   "source": []
  }
 ],
 "metadata": {
  "kernelspec": {
   "display_name": "tensorflow-gpu",
   "language": "python",
   "name": "python3"
  },
  "language_info": {
   "codemirror_mode": {
    "name": "ipython",
    "version": 3
   },
   "file_extension": ".py",
   "mimetype": "text/x-python",
   "name": "python",
   "nbconvert_exporter": "python",
   "pygments_lexer": "ipython3",
   "version": "3.10.13"
  }
 },
 "nbformat": 4,
 "nbformat_minor": 2
}
