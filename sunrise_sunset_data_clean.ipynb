{
 "cells": [
  {
   "cell_type": "code",
   "execution_count": 1,
   "metadata": {},
   "outputs": [
    {
     "name": "stderr",
     "output_type": "stream",
     "text": [
      "c:\\Users\\alber\\anaconda3\\envs\\tensorflow-gpu\\lib\\site-packages\\numpy\\_distributor_init.py:30: UserWarning: loaded more than 1 DLL from .libs:\n",
      "c:\\Users\\alber\\anaconda3\\envs\\tensorflow-gpu\\lib\\site-packages\\numpy\\.libs\\libopenblas.EL2C6PLE4ZYW3ECEVIV3OXXGRN2NRFM2.gfortran-win_amd64.dll\n",
      "c:\\Users\\alber\\anaconda3\\envs\\tensorflow-gpu\\lib\\site-packages\\numpy\\.libs\\libopenblas.WCDJNK7YVMPZQ2ME2ZZHJJRJ3JIKNDB7.gfortran-win_amd64.dll\n",
      "  warnings.warn(\"loaded more than 1 DLL from .libs:\"\n"
     ]
    }
   ],
   "source": [
    "import pandas as pd\n",
    "import numpy as np"
   ]
  },
  {
   "cell_type": "code",
   "execution_count": 2,
   "metadata": {},
   "outputs": [],
   "source": [
    "import os\n",
    "key = os.environ.get('EDA_FINAL')\n"
   ]
  },
  {
   "cell_type": "code",
   "execution_count": 9,
   "metadata": {},
   "outputs": [
    {
     "data": {
      "text/plain": [
       "'7MwT1ZmCHyvHDvtY1GsGGX75uwssV3deROK6SWaE'"
      ]
     },
     "execution_count": 9,
     "metadata": {},
     "output_type": "execute_result"
    }
   ],
   "source": [
    "key"
   ]
  },
  {
   "cell_type": "code",
   "execution_count": 10,
   "metadata": {},
   "outputs": [],
   "source": [
    "import cohere\n",
    "from cohere.responses.classify import Example\n",
    "co = cohere.Client('7MwT1ZmCHyvHDvtY1GsGGX75uwssV3deROK6SWaE')"
   ]
  },
  {
   "cell_type": "code",
   "execution_count": 4,
   "metadata": {},
   "outputs": [
    {
     "name": "stdout",
     "output_type": "stream",
     "text": [
      "Index(['Unnamed: 0', 'ID', 'Source', 'Severity', 'Start_Time', 'End_Time',\n",
      "       'Start_Lattitude', 'Start_Longitude', 'End_Lattitude', 'End_Longitude',\n",
      "       'Distance(mi)', 'Description', 'Street', 'City', 'County', 'State',\n",
      "       'Zipcode', 'Country', 'Timezone', 'Weather_Timestamp', 'Temperature(F)',\n",
      "       'Wind_Chill(F)', 'Humidity(%)', 'Pressure(in)', 'Visibility(mi)',\n",
      "       'Wind_Direction', 'Wind_Speed(mph)', 'Precipitation(in)',\n",
      "       'Weather_Condition', 'Traffic_Signal', 'Sunrise_Sunset', 'State_Abbrv',\n",
      "       'Population'],\n",
      "      dtype='object')\n"
     ]
    }
   ],
   "source": [
    "# read in the data\n",
    "accidents_data = pd.read_csv('processed_us_car_accidents_2022.csv')\n",
    "\n",
    "# show columns\n",
    "print(accidents_data.columns)"
   ]
  },
  {
   "cell_type": "markdown",
   "metadata": {},
   "source": [
    "Used the GPT4 to generate a list of 50 exmaple whether the accident happened on the highway or not, if yes it will label the direction of the accident as North, South, East, West, if not it will label as Not_Highway.\n",
    "Then, the exmamples will be used to train a classifier to predict whether the accident happened on the highway or not."
   ]
  },
  {
   "cell_type": "code",
   "execution_count": 5,
   "metadata": {},
   "outputs": [],
   "source": [
    "# Randomly selecting 50 descriptions from the dataset\n",
    "random_descriptions = accidents_data['Description'].sample(50, random_state=1)\n",
    "\n",
    "random_descriptions = random_descriptions.tolist()"
   ]
  },
  {
   "cell_type": "markdown",
   "metadata": {},
   "source": [
    "Now these description is passed to the GPT4 model to generate example, and here is the prompt I used:\n",
    "\n",
    "```\n",
    "Please use the description column, find out whether the accident is happen on a high way, if yes return the orientation(N,S,W,E) of that accident happened, and if not on a highway or the direction it is not stated in the discription return not_highway. Read a random 50 description, return a list of data with the following structure\n",
    "\n",
    "examples=[\n",
    "  Example(\"description\", \"North\"),\n",
    "  Example(\"'description'\", \"South\"),\n",
    "  Example(\"description\", \"East\"),\n",
    "  Example(\"'description'\", \"West\"),\n",
    "  Example(\"description\", \"North\"),\n",
    "  Example(\"'description'\", \"Not_Highway\"),\n",
    "]\n",
    "\n",
    "When you analyze the description, do not use code, use your own judgment to make the prediction. \n",
    "\n",
    "\n",
    "```"
   ]
  },
  {
   "cell_type": "code",
   "execution_count": 6,
   "metadata": {},
   "outputs": [],
   "source": [
    "# here are the examples generated from the GPT4\n",
    "examples = [\n",
    "    Example(\"Incident on AZ-79 SB near FANNIN-MCFARLAND AQUEDUCT\", \"South\"),\n",
    "    Example(\"Left lane blocked due to crash on I-495 Southbound\", \"South\"),\n",
    "    Example(\"Lane blocked due to crash on FL-574 Dr Martin Luther King Jr Blvd Eastbound at I-4\", \"East\"),\n",
    "    Example(\"Slow traffic on I-405 N - San Diego Fwy N from Venice Blvd/Exit 50 to I-10/Exit 53B\", \"North\"),\n",
    "    Example(\"Incident on TOPANGA CANYON BLVD NB near RODEO GROUNDS DR\", \"North\"),\n",
    "    Example(\"Two lanes blocked due to crash on I-678 Northbound at Exit 1B I-495 Long Island Expy\", \"North\"),\n",
    "    Example(\"Incident on US-378 near HOLLEY FERRY RD\", \"Not_Highway\"),\n",
    "    Example(\"Stationary traffic on US-54 S - US-54 N from 375 Loop to Montana Ave/Exit 23\", \"Not_Highway\"),\n",
    "    Example(\"Incident on GEORGE WASHINGTON MEMORIAL PKY near VA-123 Chain Bridge Rd\", \"Not_Highway\"),\n",
    "    Example(\"Center lane blocked due to crash on I-84 Eastbound at Exit 57 I-91\", \"East\"),\n",
    "    Example(\"Stationary traffic on US-12 E - I-94 E - I-35E N from MN-55 to I-494\", \"East\"),\n",
    "    Example(\"Slow traffic on I-95 S from Hypoluxo Rd/Exit 60 to Lantana Rd/Exit 61\", \"South\"),\n",
    "    Example(\"Lane blocked due to crash on I-85 Northbound at Exit 120 Hamilton Mill Rd\", \"North\"),\n",
    "    Example(\"Incident on I-87 NB near I-87\", \"North\"),\n",
    "    Example(\"Incident on MN-77 near DIAGONAL BLVD\", \"Not_Highway\"),\n",
    "    Example(\"Stationary traffic from Poole Rd (Hodge Rd) to Exit 14\", \"Not_Highway\"),\n",
    "    Example(\"Incident on MORNING GLORY AVE near CHERRYDALE DR\", \"Not_Highway\"),\n",
    "    Example(\"Crash on the left shoulder on I-17 Northbound at Exit 214B Jomax Rd\", \"North\"),\n",
    "    Example(\"Accident on S Holt Rd from Whiskey Slough Rd to I-5\", \"Not_Highway\"),\n",
    "    Example(\"Incident on I-575 SB near BARRETT PKY\", \"South\"),\n",
    "    Example(\"Stationary traffic on VA-3 - VA-14 from Burkes Pond Rd to John Clayton Memorial Hwy\", \"Not_Highway\"),\n",
    "    Example(\"Incident on I-55 SB near US-278 Road closed. Take alternate route\", \"South\"),\n",
    "    Example(\"Incident on W GARNETTE ST near W GARNETTE ST E\", \"Not_Highway\"),\n",
    "    Example(\"Incident on HICKS RD near ALAMITOS RD\", \"Not_Highway\"),\n",
    "    Example(\"Right lane blocked due to accident on I-285 Northbound at Exit 25 US-19 Roswell Rd\", \"North\"),\n",
    "    Example(\"Slow traffic on I-10 E from US-98/US-90/Old Spanish Trail to FL-292/Sorrento Rd/Exit 7\", \"East\"),\n",
    "    Example(\"Stationary traffic from S Vermont Ave (W Gage Ave) to I-110/Harbor Fwy/Exit 18\", \"Not_Highway\"),\n",
    "    Example(\"Incident on CA-132 near N DAKOTA AVE Right shoulder blocked\", \"Not_Highway\"),\n",
    "    Example(\"Incident on CA-156 near MONTEREY ST Road closed\", \"Not_Highway\"),\n",
    "    Example(\"Incident on TX-21 WB near FM-1209 Road closed. Take alternate route\", \"West\"),\n",
    "    Example(\"Incident on N 7TH ST near E DEER VALLEY RD Expect delays\", \"Not_Highway\"),\n",
    "    Example(\"Left lane blocked and left hand shoulder blocked due to crash on I-75 Northbound at Exit 250 10th St/14th St\", \"North\"),\n",
    "    Example(\"Incident on VESTRY DR near LAMPWICK LN Expect delays\", \"Not_Highway\"),\n",
    "    Example(\"Stationary traffic from Blaine St exit [33] to NJ-17\", \"Not_Highway\"),\n",
    "    Example(\"Stationary traffic on US-29 N - US-29 S from Timberwood Blvd to Hydraulic Rd\", \"Not_Highway\"),\n",
    "    Example(\"Slow traffic on San Bernardino Fwy E - I-10 E from Sierra Ave/Exit 68 to Cherry Ave/Exit 71\", \"East\"),\n",
    "    Example(\"Crash on NY 7 eastbound at Exit to I-787; Exit 9E\", \"East\"),\n",
    "    Example(\"Lane blocked due to crash on I-65 Southbound at Exit 13A I-40\", \"South\"),\n",
    "    Example(\"Incident on WI-57 SB near COUNTY ROAD PP Road closed\", \"South\"),\n",
    "    Example(\"Slow traffic on I-696 E from Hoover Rd/Exit 24 to Mound Rd/Exit 23\", \"East\"),\n",
    "    Example(\"Incident on I-90 near I-90 Left lane blocked\", \"Not_Highway\"),\n",
    "    Example(\"Slow traffic on Garden State Pkwy S from US-9 Exit 123 to Cheesequake Rd Exit 120\", \"South\"),\n",
    "    Example(\"Incident on TEXAS ST near MONROE AVE\", \"Not_Highway\"),\n",
    "    Example(\"Incident on N LABURNUM AVE near WATTS LN\", \"Not_Highway\"),\n",
    "    Example(\"Slow traffic on I-90 W from 22nd St/Exit 172 (I-94 W/I-90 W) to Cermak Rd\", \"West\"),\n",
    "    Example(\"Slow traffic on San Diego Fwy S - I-405 S from Getty Center Dr to I-10/Santa Monica Fwy\", \"South\"),\n",
    "    Example(\"Left lane blocked due to crash on MA-24 Southbound at Exit 18B I-495 North\", \"South\"),\n",
    "    Example(\"Incident on I-80 EB near I-80\", \"East\"),\n",
    "    Example(\"Slow traffic on US-301 N - FL-70 from 63rd Ave E to 33rd St E\", \"North\"),\n",
    "    Example(\"Incident on SW 59TH LN near HOUSE 13420\", \"Not_Highway\")\n",
    "]\n"
   ]
  },
  {
   "cell_type": "code",
   "execution_count": 11,
   "metadata": {},
   "outputs": [],
   "source": [
    "# apply co.classify to the actual data and append the results to the dataframe\n",
    "test_input = accidents_data['Description'][:10].tolist()\n",
    "response = co.classify(\n",
    "  inputs=test_input,\n",
    "  examples=examples,\n",
    ")"
   ]
  },
  {
   "cell_type": "code",
   "execution_count": 13,
   "metadata": {},
   "outputs": [
    {
     "name": "stderr",
     "output_type": "stream",
     "text": [
      "`prediction` is deprecated and will be removed soon. Please use `predictions` instead.\n",
      "`prediction` is deprecated and will be removed soon. Please use `predictions` instead.\n",
      "`prediction` is deprecated and will be removed soon. Please use `predictions` instead.\n",
      "`prediction` is deprecated and will be removed soon. Please use `predictions` instead.\n",
      "`prediction` is deprecated and will be removed soon. Please use `predictions` instead.\n",
      "`prediction` is deprecated and will be removed soon. Please use `predictions` instead.\n",
      "`prediction` is deprecated and will be removed soon. Please use `predictions` instead.\n",
      "`prediction` is deprecated and will be removed soon. Please use `predictions` instead.\n",
      "`prediction` is deprecated and will be removed soon. Please use `predictions` instead.\n",
      "`prediction` is deprecated and will be removed soon. Please use `predictions` instead.\n"
     ]
    },
    {
     "name": "stdout",
     "output_type": "stream",
     "text": [
      "Description: Crash on CR-11 Army Trail Rd at IL-59.\n",
      "Predicted Direction: East\n",
      "\n",
      "\n",
      "Description: Crash on CA-138 Pearblossom Hwy at 96th St.\n",
      "Predicted Direction: Not_Highway\n",
      "\n",
      "\n",
      "Description: Crash on 2nd St Northbound at Franklin St.\n",
      "Predicted Direction: Not_Highway\n",
      "\n",
      "\n",
      "Description: Crash on US-62 Atlantic Blvd Westbound after OH-173 State St.\n",
      "Predicted Direction: North\n",
      "\n",
      "\n",
      "Description: Crash on entry ramp to I-77 Northbound at Exit 20A-B from I-480 Westbound.\n",
      "Predicted Direction: North\n",
      "\n",
      "\n",
      "Description: Crash on PA-616 Trinity Rd between Graybill Rd and Rolling Meadow Ct.\n",
      "Predicted Direction: Not_Highway\n",
      "\n",
      "\n",
      "Description: Crash on I-71 Northbound after Exit 84 OH-56.\n",
      "Predicted Direction: East\n",
      "\n",
      "\n",
      "Description: Right hand shoulder blocked due to crash on I-670 Westbound at OH-315 .\n",
      "Predicted Direction: North\n",
      "\n",
      "\n",
      "Description: Crash on SC-512 Cade Rd at Five Bridges Rd.\n",
      "Predicted Direction: South\n",
      "\n",
      "\n",
      "Description: Crash on Boiling Springs Rd at Bluefield Rd.\n",
      "Predicted Direction: North\n",
      "\n",
      "\n"
     ]
    }
   ],
   "source": [
    "# display the results and the original descriptions\n",
    "for i in range(len(test_input)):\n",
    "    print(f\"Description: {test_input[i]}\")\n",
    "    print(f\"Predicted Direction: {response[i].prediction}\")\n",
    "    print(\"\\n\")"
   ]
  }
 ],
 "metadata": {
  "kernelspec": {
   "display_name": "tensorflow-gpu",
   "language": "python",
   "name": "python3"
  },
  "language_info": {
   "codemirror_mode": {
    "name": "ipython",
    "version": 3
   },
   "file_extension": ".py",
   "mimetype": "text/x-python",
   "name": "python",
   "nbconvert_exporter": "python",
   "pygments_lexer": "ipython3",
   "version": "3.8.18"
  }
 },
 "nbformat": 4,
 "nbformat_minor": 2
}
